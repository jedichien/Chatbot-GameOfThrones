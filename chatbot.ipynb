{
 "cells": [
  {
   "cell_type": "code",
   "execution_count": 1,
   "metadata": {
    "collapsed": true
   },
   "outputs": [],
   "source": [
    "import codecs\n",
    "import re"
   ]
  },
  {
   "cell_type": "code",
   "execution_count": 2,
   "metadata": {},
   "outputs": [
    {
     "name": "stdout",
     "output_type": "stream",
     "text": [
      "27241\n"
     ]
    }
   ],
   "source": [
    "sentences = []\n",
    "for i in range(1, 8):\n",
    "    for j in range(1, 10):\n",
    "        try:\n",
    "            with codecs.open(\"subtitle/%d-%d.srt\" % (i, j), \"r\", \"utf-8\") as f:\n",
    "                lines = f.readlines()\n",
    "                startLine = False\n",
    "                tmp = []\n",
    "                for line in lines:\n",
    "                    if re.search(r\"^[\\n|\\t|\\r]+$\", line):\n",
    "                        startLine = False\n",
    "                        if tmp:\n",
    "                            sentences.append(u'，'.join(tmp))\n",
    "                        tmp = []\n",
    "                    if startLine:\n",
    "                        #print line\n",
    "                        if not re.search(u\"[<|>|（|）|(|)|：|:|《|》|·|*|■|^\\d+$|www\\.|季第|微信掃描|^權力的游戲$||論壇|字幕組|榮譽出品|^謝謝觀賞$]\", line):\n",
    "                            line = re.sub(u\"[-|\\s|…|「|」|♪|~|！]+\", '', line)\n",
    "                            if line and not (re.search(r\"^[\\n|\\t|\\r]+$\", line)):\n",
    "                                tmp.append(line)\n",
    "                    if re.search(\"-->\", line):\n",
    "                        startLine = True\n",
    "        except IOError:\n",
    "            break\n",
    "print len(sentences)"
   ]
  },
  {
   "cell_type": "code",
   "execution_count": 3,
   "metadata": {},
   "outputs": [
    {
     "name": "stdout",
     "output_type": "stream",
     "text": [
      "p1_length: 13620, p2_length: 13620\n"
     ]
    }
   ],
   "source": [
    "p1 = [sentences[i] for i in xrange(0, len(sentences), 2)]\n",
    "p2 = [sentences[i] for i in xrange(1, len(sentences), 2)]\n",
    "minLength = min(len(p1), len(p2))\n",
    "p1 = p1[:minLength]\n",
    "p2 = p2[:minLength]\n",
    "print \"p1_length: %d, p2_length: %d\" % (len(p1), len(p2))"
   ]
  },
  {
   "cell_type": "code",
   "execution_count": null,
   "metadata": {
    "collapsed": true
   },
   "outputs": [],
   "source": []
  }
 ],
 "metadata": {
  "kernelspec": {
   "display_name": "Python 2",
   "language": "python",
   "name": "python2"
  },
  "language_info": {
   "codemirror_mode": {
    "name": "ipython",
    "version": 2
   },
   "file_extension": ".py",
   "mimetype": "text/x-python",
   "name": "python",
   "nbconvert_exporter": "python",
   "pygments_lexer": "ipython2",
   "version": "2.7.13"
  }
 },
 "nbformat": 4,
 "nbformat_minor": 2
}
