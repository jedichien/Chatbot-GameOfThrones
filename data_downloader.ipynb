{
 "cells": [
  {
   "cell_type": "code",
   "execution_count": null,
   "metadata": {
    "collapsed": true
   },
   "outputs": [],
   "source": [
    "from six.moves import urllib\n",
    "import urllib2\n",
    "import requests\n",
    "from lxml import etree\n",
    "import os\n",
    "from zipfile import ZipFile\n",
    "import re"
   ]
  },
  {
   "cell_type": "code",
   "execution_count": null,
   "metadata": {
    "collapsed": true
   },
   "outputs": [],
   "source": [
    "directory = 'data'"
   ]
  },
  {
   "cell_type": "code",
   "execution_count": null,
   "metadata": {
    "collapsed": true
   },
   "outputs": [],
   "source": [
    "def download(directory, name, id):\n",
    "    url = 'https://www.opensubtitles.org/en/download/vrf-108d030f/sub/' + id\n",
    "    filename = name\n",
    "    filepath = os.path.join(directory, filename)\n",
    "    if not os.path.exists(directory):\n",
    "        print(\"Creating directory %s\" % directory)\n",
    "        os.mkdir(directory)\n",
    "    if not os.path.exists(filepath):\n",
    "#         print(\"Downloading %s to %s\" % (url, filepath))\n",
    "        request = requests.get(url, allow_redirects=True)\n",
    "        with open(filepath, 'wb') as f:\n",
    "            f.write(request.content)\n",
    "        statinfo = os.stat(filepath)\n",
    "        print (\"Successfully downloaded\", filename, statinfo.st_size, \"bytes\")"
   ]
  },
  {
   "cell_type": "code",
   "execution_count": null,
   "metadata": {},
   "outputs": [],
   "source": [
    "def download_by_page(r):\n",
    "    url = 'https://www.opensubtitles.org/en/search/sublanguageid-zht/offset-' + r\n",
    "    html = urllib2.urlopen(url).read()\n",
    "    tree = etree.HTML(html)\n",
    "    rows = tree.xpath(\"//tr[@class='change even expandable']\")\n",
    "    for row in rows:\n",
    "        name = row.xpath(\"//td[1]/strong/a/text()\")\n",
    "        style = row.xpath(\"//td[5]/span[@class='p']/text()\")\n",
    "        url = row.xpath(\"//td[5]/a/@href\")[1:]\n",
    "        for (n, s, l) in zip(name, style, url):\n",
    "            if s == 'srt':\n",
    "                name =  re.sub(r'\\s+', '-', n)\n",
    "                id = re.search('\\d+$', u).group(0)\n",
    "                download(directory, name, id)"
   ]
  },
  {
   "cell_type": "code",
   "execution_count": null,
   "metadata": {},
   "outputs": [],
   "source": [
    "for r in xrange(0, 800000, 40):\n",
    "    try:\n",
    "        download_by_page(r)\n",
    "    except:\n",
    "        break"
   ]
  },
  {
   "cell_type": "code",
   "execution_count": null,
   "metadata": {},
   "outputs": [],
   "source": [
    "# with ZipFile('data/21-Jump-Street-(2012)') as zfile:\n",
    "#     name = [file.filename for file in zfile.infolist() if re.search('\\.srt', file.filename)]\n",
    "#     with zfile.open(name[0], 'rU') as file:\n",
    "#         for line in file.readlines():\n",
    "#             print line.decode('iso-8859-1').encode('utf8')"
   ]
  }
 ],
 "metadata": {
  "kernelspec": {
   "display_name": "Python 2",
   "language": "python",
   "name": "python2"
  },
  "language_info": {
   "codemirror_mode": {
    "name": "ipython",
    "version": 2
   },
   "file_extension": ".py",
   "mimetype": "text/x-python",
   "name": "python",
   "nbconvert_exporter": "python",
   "pygments_lexer": "ipython2",
   "version": "2.7.13"
  }
 },
 "nbformat": 4,
 "nbformat_minor": 2
}
